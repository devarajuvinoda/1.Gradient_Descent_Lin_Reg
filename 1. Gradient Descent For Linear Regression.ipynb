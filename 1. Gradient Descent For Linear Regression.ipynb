{
 "cells": [
  {
   "cell_type": "markdown",
   "metadata": {},
   "source": [
    "# Gradient Descent Algorithm (For Linear Regression)"
   ]
  },
  {
   "cell_type": "markdown",
   "metadata": {},
   "source": [
    "let the line be of the form Y = mX + b"
   ]
  },
  {
   "cell_type": "markdown",
   "metadata": {},
   "source": [
    "m : slope of the line. "
   ]
  },
  {
   "cell_type": "markdown",
   "metadata": {},
   "source": [
    "b : x-intercept of the line."
   ]
  },
  {
   "cell_type": "code",
   "execution_count": 206,
   "metadata": {
    "collapsed": true
   },
   "outputs": [],
   "source": [
    "# import 'only' library\n",
    "from numpy import *"
   ]
  },
  {
   "cell_type": "code",
   "execution_count": 198,
   "metadata": {
    "collapsed": true
   },
   "outputs": [],
   "source": [
    "def input_val():\n",
    "    dataset = genfromtxt('data.csv', delimiter = ',')\n",
    "    learning_rate = 0.0001\n",
    "    b_init = 0\n",
    "    m_init = 0\n",
    "    iterations = 25000\n",
    "    \n",
    "    [b , m] = gradient_descent(dataset, b_init, m_init, learning_rate, iterations)\n",
    "    print([b, m])\n"
   ]
  },
  {
   "cell_type": "code",
   "execution_count": null,
   "metadata": {
    "collapsed": true
   },
   "outputs": [],
   "source": [
    "\n",
    "# This function will initialize starting values of\n",
    "# b, m and calls step gradient \n",
    "def gradient_descent(dataset, b_init, m_init, learning_rate, iterations):\n",
    "    b = b_init\n",
    "    m = m_init\n",
    "    \n",
    "    for i in range(iterations):\n",
    "        [b, m] = step_gradient(b, m, array(dataset), learning_rate)\n",
    "    return[b, m]"
   ]
  },
  {
   "cell_type": "code",
   "execution_count": null,
   "metadata": {
    "collapsed": true
   },
   "outputs": [],
   "source": [
    "def step_gradient(b_current, m_current, dataset, learning_rate):\n",
    "    b_grad = 0\n",
    "    m_grad = 0\n",
    "    N = float(len(dataset))\n",
    "    \n",
    "    for i in range(0, len(dataset)):\n",
    "        x = dataset[i, 0]\n",
    "        y = dataset[i, 1]\n",
    "        b_grad += -(2/N) * (y - ((m_current * x) + b_current))\n",
    "        m_grad += -(2/N) * x * (y - ((m_current * x) + b_current))\n",
    "    \n",
    "    new_b = b_current - (learning_rate * b_grad)\n",
    "    new_m = m_current - (learning_rate * m_grad)\n",
    "    return[new_b, new_m]\n",
    "   "
   ]
  },
  {
   "cell_type": "code",
   "execution_count": 207,
   "metadata": {},
   "outputs": [
    {
     "name": "stdout",
     "output_type": "stream",
     "text": [
      "[1.3982083396118958, 1.4520107464936123]\n"
     ]
    }
   ],
   "source": [
    "input_val()"
   ]
  },
  {
   "cell_type": "markdown",
   "metadata": {},
   "source": [
    "\n",
    "\n",
    "\n",
    ".\n",
    "\n",
    "."
   ]
  },
  {
   "cell_type": "markdown",
   "metadata": {},
   "source": [
    "End of gradient descent calculation, now lets use some libraries to visualize the results"
   ]
  },
  {
   "cell_type": "markdown",
   "metadata": {},
   "source": [
    "# Visualize the results"
   ]
  },
  {
   "cell_type": "code",
   "execution_count": 208,
   "metadata": {},
   "outputs": [
    {
     "data": {
      "image/png": "[encoded data removed]",
      "text/plain": [
       "<matplotlib.figure.Figure at 0x7f69a058add8>"
      ]
     },
     "metadata": {},
     "output_type": "display_data"
    }
   ],
   "source": [
    "import matplotlib.pyplot as plt\n",
    "import pandas as pd\n",
    "\n",
    "y=[]\n",
    "x=[]\n",
    "data = pd.read_csv('data.csv') \n",
    "for i in range(70):\n",
    "    x.append(data.iloc[i,0])\n",
    "    y.append(1.398 * data.iloc[i,0] + 1.452)  # line equation y = mx + b\n",
    "\n",
    "plt.scatter(x = data.iloc[:,0], y = data.iloc[:, 1], color = 'blue')\n",
    "plt.plot(x, y, color = 'green')\n",
    "plt.xlabel('x-points')\n",
    "plt.ylabel('y-points')\n",
    "plt.title('Gradient Descent For Linear Regression Model')\n",
    "plt.show()"
   ]
  }
 ],
 "metadata": {
  "kernelspec": {
   "display_name": "Python 3",
   "language": "python",
   "name": "python3"
  },
  "language_info": {
   "codemirror_mode": {
    "name": "ipython",
    "version": 3
   },
   "file_extension": ".py",
   "mimetype": "text/x-python",
   "name": "python",
   "nbconvert_exporter": "python",
   "pygments_lexer": "ipython3",
   "version": "3.6.2"
  }
 },
 "nbformat": 4,
 "nbformat_minor": 2
}
